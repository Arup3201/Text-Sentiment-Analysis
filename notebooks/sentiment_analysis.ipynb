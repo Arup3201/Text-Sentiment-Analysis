{
 "cells": [
  {
   "cell_type": "code",
   "execution_count": 1,
   "id": "0a7826ff-0735-40b9-bed4-80800972754f",
   "metadata": {},
   "outputs": [],
   "source": [
    "import numpy as np\n",
    "import pandas as pd\n",
    "import re\n",
    "import plotly.express as px\n",
    "from nltk.corpus import stopwords\n",
    "from nltk.tokenize import word_tokenize\n",
    "from nltk.stem import PorterStemmer\n",
    "from sklearn.feature_extraction.text import HashingVectorizer\n",
    "from sklearn.preprocessing import StandardScaler\n",
    "\n",
    "from sklearn.linear_model import SGDClassifier, LogisticRegression\n",
    "from sklearn.naive_bayes import GaussianNB\n",
    "from sklearn.tree import DecisionTreeClassifier\n",
    "\n",
    "from sklearn.metrics import classification_report, confusion_matrix, ConfusionMatrixDisplay, accuracy_score\n",
    "\n",
    "from sklearn.model_selection import GridSearchCV"
   ]
  },
  {
   "cell_type": "code",
   "execution_count": 2,
   "id": "63bd6844-5607-4f08-8c63-6a41e9f07f72",
   "metadata": {},
   "outputs": [],
   "source": [
    "data = pd.read_excel('../.data/dataset.xlsx')"
   ]
  },
  {
   "cell_type": "code",
   "execution_count": 3,
   "id": "d39a58cd-bc5d-464f-b392-6cb81f9664f9",
   "metadata": {},
   "outputs": [
    {
     "data": {
      "text/html": [
       "<div>\n",
       "<style scoped>\n",
       "    .dataframe tbody tr th:only-of-type {\n",
       "        vertical-align: middle;\n",
       "    }\n",
       "\n",
       "    .dataframe tbody tr th {\n",
       "        vertical-align: top;\n",
       "    }\n",
       "\n",
       "    .dataframe thead th {\n",
       "        text-align: right;\n",
       "    }\n",
       "</style>\n",
       "<table border=\"1\" class=\"dataframe\">\n",
       "  <thead>\n",
       "    <tr style=\"text-align: right;\">\n",
       "      <th></th>\n",
       "      <th>Text</th>\n",
       "      <th>Sentiment</th>\n",
       "    </tr>\n",
       "  </thead>\n",
       "  <tbody>\n",
       "    <tr>\n",
       "      <th>0</th>\n",
       "      <td>The GeoSolutions technology will leverage Bene...</td>\n",
       "      <td>positive</td>\n",
       "    </tr>\n",
       "    <tr>\n",
       "      <th>1</th>\n",
       "      <td>$ESI on lows, down $1.50 to $2.50 BK a real po...</td>\n",
       "      <td>negative</td>\n",
       "    </tr>\n",
       "    <tr>\n",
       "      <th>2</th>\n",
       "      <td>For the last quarter of 2010 , Componenta 's n...</td>\n",
       "      <td>positive</td>\n",
       "    </tr>\n",
       "    <tr>\n",
       "      <th>3</th>\n",
       "      <td>According to the Finnish-Russian Chamber of Co...</td>\n",
       "      <td>neutral</td>\n",
       "    </tr>\n",
       "    <tr>\n",
       "      <th>4</th>\n",
       "      <td>The Swedish buyout firm has sold its remaining...</td>\n",
       "      <td>neutral</td>\n",
       "    </tr>\n",
       "  </tbody>\n",
       "</table>\n",
       "</div>"
      ],
      "text/plain": [
       "                                                Text Sentiment\n",
       "0  The GeoSolutions technology will leverage Bene...  positive\n",
       "1  $ESI on lows, down $1.50 to $2.50 BK a real po...  negative\n",
       "2  For the last quarter of 2010 , Componenta 's n...  positive\n",
       "3  According to the Finnish-Russian Chamber of Co...   neutral\n",
       "4  The Swedish buyout firm has sold its remaining...   neutral"
      ]
     },
     "execution_count": 3,
     "metadata": {},
     "output_type": "execute_result"
    }
   ],
   "source": [
    "data.head()"
   ]
  },
  {
   "cell_type": "code",
   "execution_count": 4,
   "id": "219d7b4d-b03a-45eb-b1a5-e53b2b1ba47b",
   "metadata": {},
   "outputs": [
    {
     "name": "stdout",
     "output_type": "stream",
     "text": [
      "<class 'pandas.core.frame.DataFrame'>\n",
      "RangeIndex: 33000 entries, 0 to 32999\n",
      "Data columns (total 2 columns):\n",
      " #   Column     Non-Null Count  Dtype \n",
      "---  ------     --------------  ----- \n",
      " 0   Text       33000 non-null  object\n",
      " 1   Sentiment  33000 non-null  object\n",
      "dtypes: object(2)\n",
      "memory usage: 515.8+ KB\n"
     ]
    }
   ],
   "source": [
    "data.info()"
   ]
  },
  {
   "cell_type": "markdown",
   "id": "d7b21ff1-d0ba-45bb-a04f-c9ffd4083ba2",
   "metadata": {},
   "source": [
    "## Data Cleaning"
   ]
  },
  {
   "cell_type": "code",
   "execution_count": 5,
   "id": "87d47386-03fe-4228-ac99-0c7911d7c1de",
   "metadata": {},
   "outputs": [],
   "source": [
    "df = data.copy()"
   ]
  },
  {
   "cell_type": "code",
   "execution_count": 6,
   "id": "aaf996b8-c289-4504-b56c-b113b1ceb4dc",
   "metadata": {},
   "outputs": [],
   "source": [
    "def clean_text(text):\n",
    "    # Remove special characters\n",
    "    text = text.replace('Ã¯Â¿Â½', '')\n",
    "    \n",
    "    # Lower casing\n",
    "    text = text.lower()\n",
    "    \n",
    "    # Remove mentions and links\n",
    "    text = re.sub(r'@[^\\s]+', '', text)\n",
    "    text = re.sub(r'http\\S+|bit.ly\\S+', '', text)\n",
    "\n",
    "    return text"
   ]
  },
  {
   "cell_type": "code",
   "execution_count": 7,
   "id": "0f8ecdf2-6054-4881-9ba6-87f48966a78d",
   "metadata": {},
   "outputs": [
    {
     "name": "stdout",
     "output_type": "stream",
     "text": [
      "Cleaned Text: this statement is to    check the clean_text function. a link  and taken from \n"
     ]
    }
   ],
   "source": [
    "sample_text = \"This statement is to    Check the Clean_Text function. A link https://whhgs.com and taken from @twitter\"\n",
    "print(f\"Cleaned Text: {clean_text(sample_text)}\")"
   ]
  },
  {
   "cell_type": "code",
   "execution_count": 8,
   "id": "4b4aaefd-d1d7-4071-af47-b625576357fd",
   "metadata": {},
   "outputs": [],
   "source": [
    "cleaned_data = df.copy()\n",
    "cleaned_data['Text'] = cleaned_data['Text'].apply(clean_text)"
   ]
  },
  {
   "cell_type": "code",
   "execution_count": 9,
   "id": "c4aed004-1f28-490a-9ae5-4cb07e3e5e41",
   "metadata": {},
   "outputs": [
    {
     "data": {
      "text/html": [
       "<div>\n",
       "<style scoped>\n",
       "    .dataframe tbody tr th:only-of-type {\n",
       "        vertical-align: middle;\n",
       "    }\n",
       "\n",
       "    .dataframe tbody tr th {\n",
       "        vertical-align: top;\n",
       "    }\n",
       "\n",
       "    .dataframe thead th {\n",
       "        text-align: right;\n",
       "    }\n",
       "</style>\n",
       "<table border=\"1\" class=\"dataframe\">\n",
       "  <thead>\n",
       "    <tr style=\"text-align: right;\">\n",
       "      <th></th>\n",
       "      <th>Text</th>\n",
       "      <th>Sentiment</th>\n",
       "    </tr>\n",
       "  </thead>\n",
       "  <tbody>\n",
       "    <tr>\n",
       "      <th>0</th>\n",
       "      <td>the geosolutions technology will leverage bene...</td>\n",
       "      <td>positive</td>\n",
       "    </tr>\n",
       "    <tr>\n",
       "      <th>1</th>\n",
       "      <td>$esi on lows, down $1.50 to $2.50 bk a real po...</td>\n",
       "      <td>negative</td>\n",
       "    </tr>\n",
       "    <tr>\n",
       "      <th>2</th>\n",
       "      <td>for the last quarter of 2010 , componenta 's n...</td>\n",
       "      <td>positive</td>\n",
       "    </tr>\n",
       "    <tr>\n",
       "      <th>3</th>\n",
       "      <td>according to the finnish-russian chamber of co...</td>\n",
       "      <td>neutral</td>\n",
       "    </tr>\n",
       "    <tr>\n",
       "      <th>4</th>\n",
       "      <td>the swedish buyout firm has sold its remaining...</td>\n",
       "      <td>neutral</td>\n",
       "    </tr>\n",
       "  </tbody>\n",
       "</table>\n",
       "</div>"
      ],
      "text/plain": [
       "                                                Text Sentiment\n",
       "0  the geosolutions technology will leverage bene...  positive\n",
       "1  $esi on lows, down $1.50 to $2.50 bk a real po...  negative\n",
       "2  for the last quarter of 2010 , componenta 's n...  positive\n",
       "3  according to the finnish-russian chamber of co...   neutral\n",
       "4  the swedish buyout firm has sold its remaining...   neutral"
      ]
     },
     "execution_count": 9,
     "metadata": {},
     "output_type": "execute_result"
    }
   ],
   "source": [
    "cleaned_data.head()"
   ]
  },
  {
   "cell_type": "markdown",
   "id": "50dd3e1e-a5b1-43c3-b27b-8449911dec91",
   "metadata": {},
   "source": [
    "## Data Preprocessing"
   ]
  },
  {
   "cell_type": "code",
   "execution_count": 10,
   "id": "6c6db09b-e113-4539-a291-5e8292ff804b",
   "metadata": {},
   "outputs": [],
   "source": [
    "df = cleaned_data.copy()"
   ]
  },
  {
   "cell_type": "code",
   "execution_count": 11,
   "id": "746a1221-48bd-4275-bbe2-fd594e0f2035",
   "metadata": {},
   "outputs": [],
   "source": [
    "stop_words = set(stopwords.words('english'))\n",
    "stemmer = PorterStemmer()"
   ]
  },
  {
   "cell_type": "code",
   "execution_count": 12,
   "id": "32d42d6c-79b1-4e13-957f-56a895c0edfe",
   "metadata": {},
   "outputs": [],
   "source": [
    "def preprocess_text(text):\n",
    "    # Remove punctuations\n",
    "    text = re.sub(r\"\"\"[!\"#$%&'()*+,-./:;<=>?@[\\]^_`{|}~]\"\"\", '', text)\n",
    "\n",
    "    # Remove numbers\n",
    "    text = re.sub(r'([0-9]+)', '', text)\n",
    "\n",
    "    # Remove more than one space\n",
    "    text = re.sub(r' +', ' ', text)\n",
    "    # Trim the text\n",
    "    text = text.strip()\n",
    "\n",
    "    # Remove stopwords and tokenize then join\n",
    "    text = [token for token in word_tokenize(text) if token not in stop_words]\n",
    "    text = ' '.join(text)\n",
    "\n",
    "    return text"
   ]
  },
  {
   "cell_type": "code",
   "execution_count": 13,
   "id": "d0efc736-5b21-4284-93a8-2e7cfef51299",
   "metadata": {},
   "outputs": [
    {
     "data": {
      "text/plain": [
       "\"for the last quarter of 2010 , componenta 's net sales doubled to eur131m from eur76m for the same period a year earlier , while it moved to a zero pre-tax profit from a pre-tax loss of eur7m .\""
      ]
     },
     "execution_count": 13,
     "metadata": {},
     "output_type": "execute_result"
    }
   ],
   "source": [
    "sample_text = df['Text'][2]\n",
    "sample_text"
   ]
  },
  {
   "cell_type": "code",
   "execution_count": 14,
   "id": "2f207b19-5844-4456-9f98-af99114695fc",
   "metadata": {},
   "outputs": [
    {
     "data": {
      "text/plain": [
       "'last quarter componenta net sales doubled eurm eurm period year earlier moved zero pretax profit pretax loss eurm'"
      ]
     },
     "execution_count": 14,
     "metadata": {},
     "output_type": "execute_result"
    }
   ],
   "source": [
    "preprocess_text(sample_text)"
   ]
  },
  {
   "cell_type": "code",
   "execution_count": 15,
   "id": "d0ed31a8-35ed-4b5a-9147-089b6fa9dac8",
   "metadata": {},
   "outputs": [],
   "source": [
    "preprocessed_data = df.copy()\n",
    "preprocessed_data['Text'] = preprocessed_data['Text'].apply(preprocess_text)"
   ]
  },
  {
   "cell_type": "code",
   "execution_count": 16,
   "id": "3bd18d97-057f-448e-863b-c1a03ec94b4f",
   "metadata": {},
   "outputs": [
    {
     "data": {
      "text/html": [
       "<div>\n",
       "<style scoped>\n",
       "    .dataframe tbody tr th:only-of-type {\n",
       "        vertical-align: middle;\n",
       "    }\n",
       "\n",
       "    .dataframe tbody tr th {\n",
       "        vertical-align: top;\n",
       "    }\n",
       "\n",
       "    .dataframe thead th {\n",
       "        text-align: right;\n",
       "    }\n",
       "</style>\n",
       "<table border=\"1\" class=\"dataframe\">\n",
       "  <thead>\n",
       "    <tr style=\"text-align: right;\">\n",
       "      <th></th>\n",
       "      <th>Text</th>\n",
       "      <th>Sentiment</th>\n",
       "    </tr>\n",
       "  </thead>\n",
       "  <tbody>\n",
       "    <tr>\n",
       "      <th>0</th>\n",
       "      <td>geosolutions technology leverage benefon gps s...</td>\n",
       "      <td>positive</td>\n",
       "    </tr>\n",
       "    <tr>\n",
       "      <th>1</th>\n",
       "      <td>esi lows bk real possibility</td>\n",
       "      <td>negative</td>\n",
       "    </tr>\n",
       "    <tr>\n",
       "      <th>2</th>\n",
       "      <td>last quarter componenta net sales doubled eurm...</td>\n",
       "      <td>positive</td>\n",
       "    </tr>\n",
       "    <tr>\n",
       "      <th>3</th>\n",
       "      <td>according finnishrussian chamber commerce majo...</td>\n",
       "      <td>neutral</td>\n",
       "    </tr>\n",
       "    <tr>\n",
       "      <th>4</th>\n",
       "      <td>swedish buyout firm sold remaining percent sta...</td>\n",
       "      <td>neutral</td>\n",
       "    </tr>\n",
       "  </tbody>\n",
       "</table>\n",
       "</div>"
      ],
      "text/plain": [
       "                                                Text Sentiment\n",
       "0  geosolutions technology leverage benefon gps s...  positive\n",
       "1                       esi lows bk real possibility  negative\n",
       "2  last quarter componenta net sales doubled eurm...  positive\n",
       "3  according finnishrussian chamber commerce majo...   neutral\n",
       "4  swedish buyout firm sold remaining percent sta...   neutral"
      ]
     },
     "execution_count": 16,
     "metadata": {},
     "output_type": "execute_result"
    }
   ],
   "source": [
    "preprocessed_data.head()"
   ]
  },
  {
   "cell_type": "markdown",
   "id": "cd747c05-3844-4dc0-93fc-9e37b217c7ff",
   "metadata": {},
   "source": [
    "## Feature Engineering"
   ]
  },
  {
   "cell_type": "code",
   "execution_count": 17,
   "id": "496c33ed-133d-472d-b108-5ba7cd8936ce",
   "metadata": {},
   "outputs": [],
   "source": [
    "df = preprocessed_data.copy()"
   ]
  },
  {
   "cell_type": "code",
   "execution_count": 18,
   "id": "dee702ea-bb6b-4e30-81f2-286442b2ab10",
   "metadata": {},
   "outputs": [
    {
     "data": {
      "text/html": [
       "<style>#sk-container-id-1 {color: black;}#sk-container-id-1 pre{padding: 0;}#sk-container-id-1 div.sk-toggleable {background-color: white;}#sk-container-id-1 label.sk-toggleable__label {cursor: pointer;display: block;width: 100%;margin-bottom: 0;padding: 0.3em;box-sizing: border-box;text-align: center;}#sk-container-id-1 label.sk-toggleable__label-arrow:before {content: \"▸\";float: left;margin-right: 0.25em;color: #696969;}#sk-container-id-1 label.sk-toggleable__label-arrow:hover:before {color: black;}#sk-container-id-1 div.sk-estimator:hover label.sk-toggleable__label-arrow:before {color: black;}#sk-container-id-1 div.sk-toggleable__content {max-height: 0;max-width: 0;overflow: hidden;text-align: left;background-color: #f0f8ff;}#sk-container-id-1 div.sk-toggleable__content pre {margin: 0.2em;color: black;border-radius: 0.25em;background-color: #f0f8ff;}#sk-container-id-1 input.sk-toggleable__control:checked~div.sk-toggleable__content {max-height: 200px;max-width: 100%;overflow: auto;}#sk-container-id-1 input.sk-toggleable__control:checked~label.sk-toggleable__label-arrow:before {content: \"▾\";}#sk-container-id-1 div.sk-estimator input.sk-toggleable__control:checked~label.sk-toggleable__label {background-color: #d4ebff;}#sk-container-id-1 div.sk-label input.sk-toggleable__control:checked~label.sk-toggleable__label {background-color: #d4ebff;}#sk-container-id-1 input.sk-hidden--visually {border: 0;clip: rect(1px 1px 1px 1px);clip: rect(1px, 1px, 1px, 1px);height: 1px;margin: -1px;overflow: hidden;padding: 0;position: absolute;width: 1px;}#sk-container-id-1 div.sk-estimator {font-family: monospace;background-color: #f0f8ff;border: 1px dotted black;border-radius: 0.25em;box-sizing: border-box;margin-bottom: 0.5em;}#sk-container-id-1 div.sk-estimator:hover {background-color: #d4ebff;}#sk-container-id-1 div.sk-parallel-item::after {content: \"\";width: 100%;border-bottom: 1px solid gray;flex-grow: 1;}#sk-container-id-1 div.sk-label:hover label.sk-toggleable__label {background-color: #d4ebff;}#sk-container-id-1 div.sk-serial::before {content: \"\";position: absolute;border-left: 1px solid gray;box-sizing: border-box;top: 0;bottom: 0;left: 50%;z-index: 0;}#sk-container-id-1 div.sk-serial {display: flex;flex-direction: column;align-items: center;background-color: white;padding-right: 0.2em;padding-left: 0.2em;position: relative;}#sk-container-id-1 div.sk-item {position: relative;z-index: 1;}#sk-container-id-1 div.sk-parallel {display: flex;align-items: stretch;justify-content: center;background-color: white;position: relative;}#sk-container-id-1 div.sk-item::before, #sk-container-id-1 div.sk-parallel-item::before {content: \"\";position: absolute;border-left: 1px solid gray;box-sizing: border-box;top: 0;bottom: 0;left: 50%;z-index: -1;}#sk-container-id-1 div.sk-parallel-item {display: flex;flex-direction: column;z-index: 1;position: relative;background-color: white;}#sk-container-id-1 div.sk-parallel-item:first-child::after {align-self: flex-end;width: 50%;}#sk-container-id-1 div.sk-parallel-item:last-child::after {align-self: flex-start;width: 50%;}#sk-container-id-1 div.sk-parallel-item:only-child::after {width: 0;}#sk-container-id-1 div.sk-dashed-wrapped {border: 1px dashed gray;margin: 0 0.4em 0.5em 0.4em;box-sizing: border-box;padding-bottom: 0.4em;background-color: white;}#sk-container-id-1 div.sk-label label {font-family: monospace;font-weight: bold;display: inline-block;line-height: 1.2em;}#sk-container-id-1 div.sk-label-container {text-align: center;}#sk-container-id-1 div.sk-container {/* jupyter's `normalize.less` sets `[hidden] { display: none; }` but bootstrap.min.css set `[hidden] { display: none !important; }` so we also need the `!important` here to be able to override the default hidden behavior on the sphinx rendered scikit-learn.org. See: https://github.com/scikit-learn/scikit-learn/issues/21755 */display: inline-block !important;position: relative;}#sk-container-id-1 div.sk-text-repr-fallback {display: none;}</style><div id=\"sk-container-id-1\" class=\"sk-top-container\"><div class=\"sk-text-repr-fallback\"><pre>HashingVectorizer(n_features=12000)</pre><b>In a Jupyter environment, please rerun this cell to show the HTML representation or trust the notebook. <br />On GitHub, the HTML representation is unable to render, please try loading this page with nbviewer.org.</b></div><div class=\"sk-container\" hidden><div class=\"sk-item\"><div class=\"sk-estimator sk-toggleable\"><input class=\"sk-toggleable__control sk-hidden--visually\" id=\"sk-estimator-id-1\" type=\"checkbox\" checked><label for=\"sk-estimator-id-1\" class=\"sk-toggleable__label sk-toggleable__label-arrow\">HashingVectorizer</label><div class=\"sk-toggleable__content\"><pre>HashingVectorizer(n_features=12000)</pre></div></div></div></div></div>"
      ],
      "text/plain": [
       "HashingVectorizer(n_features=12000)"
      ]
     },
     "execution_count": 18,
     "metadata": {},
     "output_type": "execute_result"
    }
   ],
   "source": [
    "vectorizer = HashingVectorizer(n_features=12000)\n",
    "vectorizer.fit(df['Text'])"
   ]
  },
  {
   "cell_type": "code",
   "execution_count": 19,
   "id": "b1bb3fd9-b70b-4a7c-9a1d-7afa93eaf527",
   "metadata": {},
   "outputs": [],
   "source": [
    "features = vectorizer.transform(df['Text'])\n",
    "labels = df['Sentiment'].replace({\"negative\": -1, \"neutral\": 0, \"positive\": 1})"
   ]
  },
  {
   "cell_type": "code",
   "execution_count": 20,
   "id": "5b562b3c-1f4d-4070-bcdb-5a751b3556b7",
   "metadata": {},
   "outputs": [
    {
     "data": {
      "text/plain": [
       "((33000, 12000), (33000,))"
      ]
     },
     "execution_count": 20,
     "metadata": {},
     "output_type": "execute_result"
    }
   ],
   "source": [
    "features.shape, labels.shape"
   ]
  },
  {
   "cell_type": "code",
   "execution_count": 21,
   "id": "215c481d-6b22-4ad1-b8c1-b50bb92d60c6",
   "metadata": {},
   "outputs": [
    {
     "data": {
      "text/plain": [
       "<1x12000 sparse matrix of type '<class 'numpy.float64'>'\n",
       "\twith 19 stored elements in Compressed Sparse Row format>"
      ]
     },
     "execution_count": 21,
     "metadata": {},
     "output_type": "execute_result"
    }
   ],
   "source": [
    "features[0, :]"
   ]
  },
  {
   "cell_type": "code",
   "execution_count": 22,
   "id": "cba951bb-d32c-4cbc-abce-9aa3636f3a27",
   "metadata": {},
   "outputs": [
    {
     "data": {
      "text/plain": [
       "1"
      ]
     },
     "execution_count": 22,
     "metadata": {},
     "output_type": "execute_result"
    }
   ],
   "source": [
    "labels[0]"
   ]
  },
  {
   "cell_type": "code",
   "execution_count": 23,
   "id": "00d726b6-5466-4aa4-8816-cb236e8323a0",
   "metadata": {},
   "outputs": [],
   "source": [
    "scaler = StandardScaler(with_mean=False)"
   ]
  },
  {
   "cell_type": "code",
   "execution_count": 24,
   "id": "644b6017-7a8f-488f-a854-d71268f3c7f3",
   "metadata": {},
   "outputs": [],
   "source": [
    "scaled_features = scaler.fit_transform(features)"
   ]
  },
  {
   "cell_type": "markdown",
   "id": "910d2f5f-923c-4e9c-9b2f-6c1d4beb65fa",
   "metadata": {},
   "source": [
    "## Model"
   ]
  },
  {
   "cell_type": "code",
   "execution_count": 25,
   "id": "1e6b07af-6fef-4eb1-b097-0213574fd3ff",
   "metadata": {},
   "outputs": [],
   "source": [
    "def train_model(model, x, y):\n",
    "    model.fit(x, y)\n",
    "\n",
    "    preds = model.predict(x)\n",
    "\n",
    "    print(f\"Accuracy of the model: {accuracy_score(y, preds)}\")\n",
    "\n",
    "    print(f\"Classification Report for the model: \\n{classification_report(y, preds)}\")\n",
    "\n",
    "    cm = confusion_matrix(y, preds, labels=model.classes_)\n",
    "    disp = ConfusionMatrixDisplay(confusion_matrix=cm, display_labels=model.classes_)\n",
    "\n",
    "    disp.plot()\n",
    "    \n",
    "    return model"
   ]
  },
  {
   "cell_type": "markdown",
   "id": "d66c5472-5d26-462a-a481-f87b438f5078",
   "metadata": {},
   "source": [
    "**SGDClassifier**"
   ]
  },
  {
   "cell_type": "code",
   "execution_count": 26,
   "id": "9f1e9487-cb69-4197-9fdb-d9adbbaeb0a9",
   "metadata": {},
   "outputs": [],
   "source": [
    "sgd = SGDClassifier()"
   ]
  },
  {
   "cell_type": "code",
   "execution_count": 27,
   "id": "243b4bf5-0608-43e1-8cbe-6b952ec69d7a",
   "metadata": {},
   "outputs": [
    {
     "name": "stdout",
     "output_type": "stream",
     "text": [
      "Accuracy of the model: 0.8552121212121212\n",
      "Classification Report for the model: \n",
      "              precision    recall  f1-score   support\n",
      "\n",
      "          -1       0.84      0.83      0.84      8564\n",
      "           0       0.85      0.85      0.85     14104\n",
      "           1       0.87      0.88      0.88     10332\n",
      "\n",
      "    accuracy                           0.86     33000\n",
      "   macro avg       0.86      0.85      0.86     33000\n",
      "weighted avg       0.86      0.86      0.86     33000\n",
      "\n"
     ]
    },
    {
     "data": {
      "image/png": "[encoded data removed]",
      "text/plain": [
       "<Figure size 640x480 with 2 Axes>"
      ]
     },
     "metadata": {},
     "output_type": "display_data"
    }
   ],
   "source": [
    "sgd = train_model(sgd, scaled_features, labels)"
   ]
  },
  {
   "cell_type": "markdown",
   "id": "aeca6f04-19a1-4f85-9f9c-09e33a9ba23f",
   "metadata": {},
   "source": [
    "**Logistic Regression**"
   ]
  },
  {
   "cell_type": "code",
   "execution_count": 28,
   "id": "b0bcb22e-671f-48cc-8e97-9cedb0acc20a",
   "metadata": {},
   "outputs": [],
   "source": [
    "log = LogisticRegression(max_iter=1000)"
   ]
  },
  {
   "cell_type": "code",
   "execution_count": 29,
   "id": "cd8ced54-a58f-4fa0-a854-3ba356761013",
   "metadata": {},
   "outputs": [
    {
     "name": "stdout",
     "output_type": "stream",
     "text": [
      "Accuracy of the model: 0.7513939393939394\n",
      "Classification Report for the model: \n",
      "              precision    recall  f1-score   support\n",
      "\n",
      "          -1       0.80      0.63      0.71      8564\n",
      "           0       0.70      0.84      0.76     14104\n",
      "           1       0.82      0.73      0.77     10332\n",
      "\n",
      "    accuracy                           0.75     33000\n",
      "   macro avg       0.77      0.73      0.75     33000\n",
      "weighted avg       0.76      0.75      0.75     33000\n",
      "\n"
     ]
    },
    {
     "data": {
      "image/png": "[encoded data removed]",
      "text/plain": [
       "<Figure size 640x480 with 2 Axes>"
      ]
     },
     "metadata": {},
     "output_type": "display_data"
    }
   ],
   "source": [
    "log = train_model(log, features, labels)"
   ]
  },
  {
   "cell_type": "markdown",
   "id": "57a03358-193f-41a2-b472-ab637b2e8fb0",
   "metadata": {},
   "source": [
    "**GaussianNB**"
   ]
  },
  {
   "cell_type": "code",
   "execution_count": 30,
   "id": "79aac59c-8bab-4e76-b8bf-e83e22aca411",
   "metadata": {},
   "outputs": [],
   "source": [
    "naive = GaussianNB()"
   ]
  },
  {
   "cell_type": "code",
   "execution_count": 31,
   "id": "93a7c3a0-c39a-4d1a-aa66-b803a5dd5054",
   "metadata": {},
   "outputs": [
    {
     "name": "stdout",
     "output_type": "stream",
     "text": [
      "Accuracy of the model: 0.4663939393939394\n",
      "Classification Report for the model: \n",
      "              precision    recall  f1-score   support\n",
      "\n",
      "          -1       0.36      1.00      0.53      8564\n",
      "           0       1.00      0.19      0.32     14104\n",
      "           1       0.63      0.41      0.49     10332\n",
      "\n",
      "    accuracy                           0.47     33000\n",
      "   macro avg       0.66      0.53      0.45     33000\n",
      "weighted avg       0.72      0.47      0.43     33000\n",
      "\n"
     ]
    },
    {
     "data": {
      "image/png": "[encoded data removed]",
      "text/plain": [
       "<Figure size 640x480 with 2 Axes>"
      ]
     },
     "metadata": {},
     "output_type": "display_data"
    }
   ],
   "source": [
    "naive = train_model(naive, scaled_features.toarray(), labels)"
   ]
  },
  {
   "cell_type": "markdown",
   "id": "d3d7da85-85b4-4116-8ef1-1918342adc75",
   "metadata": {},
   "source": [
    "**DecisionTreeClassifier**"
   ]
  },
  {
   "cell_type": "code",
   "execution_count": 32,
   "id": "22f838bf-7aa9-45b5-aac6-f2970db2c510",
   "metadata": {},
   "outputs": [
    {
     "name": "stdout",
     "output_type": "stream",
     "text": [
      "Accuracy of the model: 0.981909090909091\n",
      "Classification Report for the model: \n",
      "              precision    recall  f1-score   support\n",
      "\n",
      "          -1       0.94      1.00      0.97      8564\n",
      "           0       1.00      0.96      0.98     14104\n",
      "           1       1.00      1.00      1.00     10332\n",
      "\n",
      "    accuracy                           0.98     33000\n",
      "   macro avg       0.98      0.99      0.98     33000\n",
      "weighted avg       0.98      0.98      0.98     33000\n",
      "\n"
     ]
    },
    {
     "data": {
      "image/png": "[encoded data removed]",
      "text/plain": [
       "<Figure size 640x480 with 2 Axes>"
      ]
     },
     "metadata": {},
     "output_type": "display_data"
    }
   ],
   "source": [
    "tree = DecisionTreeClassifier()\n",
    "tree = train_model(tree, scaled_features, labels)"
   ]
  },
  {
   "cell_type": "markdown",
   "id": "ab76690d-0f1e-42f3-b656-dd5321a42f03",
   "metadata": {},
   "source": [
    "*So far We have seen that Decision Tree perform well on the dataset but it os overfitted. So to generalize well on the dataset, we will use GridSearch with different values of parameters in Decision Tree Classifier.*"
   ]
  },
  {
   "cell_type": "code",
   "execution_count": 38,
   "id": "c937e3da-365d-47d8-88ec-c9af46047e70",
   "metadata": {},
   "outputs": [],
   "source": [
    "params = {\n",
    "    'criterion': ['gini', 'entropy', 'log_loss'], \n",
    "    'max_depth': list(range(25, 32)), \n",
    "    'max_features': ['sqrt', 'log2', None]\n",
    "}\n",
    "\n",
    "tree = DecisionTreeClassifier()\n",
    "\n",
    "grid = GridSearchCV(tree, params, scoring='accuracy')"
   ]
  },
  {
   "cell_type": "code",
   "execution_count": 39,
   "id": "7150a240-18e4-49ff-8ac5-58928174128c",
   "metadata": {
    "scrolled": true
   },
   "outputs": [
    {
     "data": {
      "text/html": [
       "<style>#sk-container-id-2 {color: black;}#sk-container-id-2 pre{padding: 0;}#sk-container-id-2 div.sk-toggleable {background-color: white;}#sk-container-id-2 label.sk-toggleable__label {cursor: pointer;display: block;width: 100%;margin-bottom: 0;padding: 0.3em;box-sizing: border-box;text-align: center;}#sk-container-id-2 label.sk-toggleable__label-arrow:before {content: \"▸\";float: left;margin-right: 0.25em;color: #696969;}#sk-container-id-2 label.sk-toggleable__label-arrow:hover:before {color: black;}#sk-container-id-2 div.sk-estimator:hover label.sk-toggleable__label-arrow:before {color: black;}#sk-container-id-2 div.sk-toggleable__content {max-height: 0;max-width: 0;overflow: hidden;text-align: left;background-color: #f0f8ff;}#sk-container-id-2 div.sk-toggleable__content pre {margin: 0.2em;color: black;border-radius: 0.25em;background-color: #f0f8ff;}#sk-container-id-2 input.sk-toggleable__control:checked~div.sk-toggleable__content {max-height: 200px;max-width: 100%;overflow: auto;}#sk-container-id-2 input.sk-toggleable__control:checked~label.sk-toggleable__label-arrow:before {content: \"▾\";}#sk-container-id-2 div.sk-estimator input.sk-toggleable__control:checked~label.sk-toggleable__label {background-color: #d4ebff;}#sk-container-id-2 div.sk-label input.sk-toggleable__control:checked~label.sk-toggleable__label {background-color: #d4ebff;}#sk-container-id-2 input.sk-hidden--visually {border: 0;clip: rect(1px 1px 1px 1px);clip: rect(1px, 1px, 1px, 1px);height: 1px;margin: -1px;overflow: hidden;padding: 0;position: absolute;width: 1px;}#sk-container-id-2 div.sk-estimator {font-family: monospace;background-color: #f0f8ff;border: 1px dotted black;border-radius: 0.25em;box-sizing: border-box;margin-bottom: 0.5em;}#sk-container-id-2 div.sk-estimator:hover {background-color: #d4ebff;}#sk-container-id-2 div.sk-parallel-item::after {content: \"\";width: 100%;border-bottom: 1px solid gray;flex-grow: 1;}#sk-container-id-2 div.sk-label:hover label.sk-toggleable__label {background-color: #d4ebff;}#sk-container-id-2 div.sk-serial::before {content: \"\";position: absolute;border-left: 1px solid gray;box-sizing: border-box;top: 0;bottom: 0;left: 50%;z-index: 0;}#sk-container-id-2 div.sk-serial {display: flex;flex-direction: column;align-items: center;background-color: white;padding-right: 0.2em;padding-left: 0.2em;position: relative;}#sk-container-id-2 div.sk-item {position: relative;z-index: 1;}#sk-container-id-2 div.sk-parallel {display: flex;align-items: stretch;justify-content: center;background-color: white;position: relative;}#sk-container-id-2 div.sk-item::before, #sk-container-id-2 div.sk-parallel-item::before {content: \"\";position: absolute;border-left: 1px solid gray;box-sizing: border-box;top: 0;bottom: 0;left: 50%;z-index: -1;}#sk-container-id-2 div.sk-parallel-item {display: flex;flex-direction: column;z-index: 1;position: relative;background-color: white;}#sk-container-id-2 div.sk-parallel-item:first-child::after {align-self: flex-end;width: 50%;}#sk-container-id-2 div.sk-parallel-item:last-child::after {align-self: flex-start;width: 50%;}#sk-container-id-2 div.sk-parallel-item:only-child::after {width: 0;}#sk-container-id-2 div.sk-dashed-wrapped {border: 1px dashed gray;margin: 0 0.4em 0.5em 0.4em;box-sizing: border-box;padding-bottom: 0.4em;background-color: white;}#sk-container-id-2 div.sk-label label {font-family: monospace;font-weight: bold;display: inline-block;line-height: 1.2em;}#sk-container-id-2 div.sk-label-container {text-align: center;}#sk-container-id-2 div.sk-container {/* jupyter's `normalize.less` sets `[hidden] { display: none; }` but bootstrap.min.css set `[hidden] { display: none !important; }` so we also need the `!important` here to be able to override the default hidden behavior on the sphinx rendered scikit-learn.org. See: https://github.com/scikit-learn/scikit-learn/issues/21755 */display: inline-block !important;position: relative;}#sk-container-id-2 div.sk-text-repr-fallback {display: none;}</style><div id=\"sk-container-id-2\" class=\"sk-top-container\"><div class=\"sk-text-repr-fallback\"><pre>GridSearchCV(estimator=DecisionTreeClassifier(),\n",
       "             param_grid={&#x27;criterion&#x27;: [&#x27;gini&#x27;, &#x27;entropy&#x27;, &#x27;log_loss&#x27;],\n",
       "                         &#x27;max_depth&#x27;: [25, 26, 27, 28, 29, 30, 31],\n",
       "                         &#x27;max_features&#x27;: [&#x27;sqrt&#x27;, &#x27;log2&#x27;, None]},\n",
       "             scoring=&#x27;accuracy&#x27;)</pre><b>In a Jupyter environment, please rerun this cell to show the HTML representation or trust the notebook. <br />On GitHub, the HTML representation is unable to render, please try loading this page with nbviewer.org.</b></div><div class=\"sk-container\" hidden><div class=\"sk-item sk-dashed-wrapped\"><div class=\"sk-label-container\"><div class=\"sk-label sk-toggleable\"><input class=\"sk-toggleable__control sk-hidden--visually\" id=\"sk-estimator-id-2\" type=\"checkbox\" ><label for=\"sk-estimator-id-2\" class=\"sk-toggleable__label sk-toggleable__label-arrow\">GridSearchCV</label><div class=\"sk-toggleable__content\"><pre>GridSearchCV(estimator=DecisionTreeClassifier(),\n",
       "             param_grid={&#x27;criterion&#x27;: [&#x27;gini&#x27;, &#x27;entropy&#x27;, &#x27;log_loss&#x27;],\n",
       "                         &#x27;max_depth&#x27;: [25, 26, 27, 28, 29, 30, 31],\n",
       "                         &#x27;max_features&#x27;: [&#x27;sqrt&#x27;, &#x27;log2&#x27;, None]},\n",
       "             scoring=&#x27;accuracy&#x27;)</pre></div></div></div><div class=\"sk-parallel\"><div class=\"sk-parallel-item\"><div class=\"sk-item\"><div class=\"sk-label-container\"><div class=\"sk-label sk-toggleable\"><input class=\"sk-toggleable__control sk-hidden--visually\" id=\"sk-estimator-id-3\" type=\"checkbox\" ><label for=\"sk-estimator-id-3\" class=\"sk-toggleable__label sk-toggleable__label-arrow\">estimator: DecisionTreeClassifier</label><div class=\"sk-toggleable__content\"><pre>DecisionTreeClassifier()</pre></div></div></div><div class=\"sk-serial\"><div class=\"sk-item\"><div class=\"sk-estimator sk-toggleable\"><input class=\"sk-toggleable__control sk-hidden--visually\" id=\"sk-estimator-id-4\" type=\"checkbox\" ><label for=\"sk-estimator-id-4\" class=\"sk-toggleable__label sk-toggleable__label-arrow\">DecisionTreeClassifier</label><div class=\"sk-toggleable__content\"><pre>DecisionTreeClassifier()</pre></div></div></div></div></div></div></div></div></div></div>"
      ],
      "text/plain": [
       "GridSearchCV(estimator=DecisionTreeClassifier(),\n",
       "             param_grid={'criterion': ['gini', 'entropy', 'log_loss'],\n",
       "                         'max_depth': [25, 26, 27, 28, 29, 30, 31],\n",
       "                         'max_features': ['sqrt', 'log2', None]},\n",
       "             scoring='accuracy')"
      ]
     },
     "execution_count": 39,
     "metadata": {},
     "output_type": "execute_result"
    }
   ],
   "source": [
    "grid.fit(scaled_features, labels)"
   ]
  },
  {
   "cell_type": "code",
   "execution_count": 40,
   "id": "91371034-ab5d-4c85-a565-d4cd3c764950",
   "metadata": {},
   "outputs": [
    {
     "data": {
      "text/html": [
       "<div>\n",
       "<style scoped>\n",
       "    .dataframe tbody tr th:only-of-type {\n",
       "        vertical-align: middle;\n",
       "    }\n",
       "\n",
       "    .dataframe tbody tr th {\n",
       "        vertical-align: top;\n",
       "    }\n",
       "\n",
       "    .dataframe thead th {\n",
       "        text-align: right;\n",
       "    }\n",
       "</style>\n",
       "<table border=\"1\" class=\"dataframe\">\n",
       "  <thead>\n",
       "    <tr style=\"text-align: right;\">\n",
       "      <th></th>\n",
       "      <th>mean_fit_time</th>\n",
       "      <th>std_fit_time</th>\n",
       "      <th>mean_score_time</th>\n",
       "      <th>std_score_time</th>\n",
       "      <th>param_criterion</th>\n",
       "      <th>param_max_depth</th>\n",
       "      <th>param_max_features</th>\n",
       "      <th>params</th>\n",
       "      <th>split0_test_score</th>\n",
       "      <th>split1_test_score</th>\n",
       "      <th>split2_test_score</th>\n",
       "      <th>split3_test_score</th>\n",
       "      <th>split4_test_score</th>\n",
       "      <th>mean_test_score</th>\n",
       "      <th>std_test_score</th>\n",
       "      <th>rank_test_score</th>\n",
       "    </tr>\n",
       "  </thead>\n",
       "  <tbody>\n",
       "    <tr>\n",
       "      <th>0</th>\n",
       "      <td>0.317233</td>\n",
       "      <td>0.068385</td>\n",
       "      <td>0.003938</td>\n",
       "      <td>0.000838</td>\n",
       "      <td>gini</td>\n",
       "      <td>25</td>\n",
       "      <td>sqrt</td>\n",
       "      <td>{'criterion': 'gini', 'max_depth': 25, 'max_fe...</td>\n",
       "      <td>0.446515</td>\n",
       "      <td>0.466818</td>\n",
       "      <td>0.463939</td>\n",
       "      <td>0.491364</td>\n",
       "      <td>0.486970</td>\n",
       "      <td>0.471121</td>\n",
       "      <td>0.016349</td>\n",
       "      <td>39</td>\n",
       "    </tr>\n",
       "    <tr>\n",
       "      <th>1</th>\n",
       "      <td>0.217831</td>\n",
       "      <td>0.093922</td>\n",
       "      <td>0.003559</td>\n",
       "      <td>0.001167</td>\n",
       "      <td>gini</td>\n",
       "      <td>25</td>\n",
       "      <td>log2</td>\n",
       "      <td>{'criterion': 'gini', 'max_depth': 25, 'max_fe...</td>\n",
       "      <td>0.426667</td>\n",
       "      <td>0.439091</td>\n",
       "      <td>0.440606</td>\n",
       "      <td>0.425909</td>\n",
       "      <td>0.434091</td>\n",
       "      <td>0.433273</td>\n",
       "      <td>0.006102</td>\n",
       "      <td>58</td>\n",
       "    </tr>\n",
       "    <tr>\n",
       "      <th>2</th>\n",
       "      <td>3.082565</td>\n",
       "      <td>0.194494</td>\n",
       "      <td>0.003800</td>\n",
       "      <td>0.001013</td>\n",
       "      <td>gini</td>\n",
       "      <td>25</td>\n",
       "      <td>None</td>\n",
       "      <td>{'criterion': 'gini', 'max_depth': 25, 'max_fe...</td>\n",
       "      <td>0.492424</td>\n",
       "      <td>0.609545</td>\n",
       "      <td>0.611061</td>\n",
       "      <td>0.599697</td>\n",
       "      <td>0.620303</td>\n",
       "      <td>0.586606</td>\n",
       "      <td>0.047542</td>\n",
       "      <td>18</td>\n",
       "    </tr>\n",
       "    <tr>\n",
       "      <th>3</th>\n",
       "      <td>0.331423</td>\n",
       "      <td>0.049439</td>\n",
       "      <td>0.003614</td>\n",
       "      <td>0.000816</td>\n",
       "      <td>gini</td>\n",
       "      <td>26</td>\n",
       "      <td>sqrt</td>\n",
       "      <td>{'criterion': 'gini', 'max_depth': 26, 'max_fe...</td>\n",
       "      <td>0.455455</td>\n",
       "      <td>0.515303</td>\n",
       "      <td>0.535303</td>\n",
       "      <td>0.488788</td>\n",
       "      <td>0.478333</td>\n",
       "      <td>0.494636</td>\n",
       "      <td>0.027986</td>\n",
       "      <td>24</td>\n",
       "    </tr>\n",
       "    <tr>\n",
       "      <th>4</th>\n",
       "      <td>0.235857</td>\n",
       "      <td>0.084088</td>\n",
       "      <td>0.003190</td>\n",
       "      <td>0.001468</td>\n",
       "      <td>gini</td>\n",
       "      <td>26</td>\n",
       "      <td>log2</td>\n",
       "      <td>{'criterion': 'gini', 'max_depth': 26, 'max_fe...</td>\n",
       "      <td>0.430303</td>\n",
       "      <td>0.433939</td>\n",
       "      <td>0.429545</td>\n",
       "      <td>0.460909</td>\n",
       "      <td>0.433182</td>\n",
       "      <td>0.437576</td>\n",
       "      <td>0.011784</td>\n",
       "      <td>49</td>\n",
       "    </tr>\n",
       "    <tr>\n",
       "      <th>...</th>\n",
       "      <td>...</td>\n",
       "      <td>...</td>\n",
       "      <td>...</td>\n",
       "      <td>...</td>\n",
       "      <td>...</td>\n",
       "      <td>...</td>\n",
       "      <td>...</td>\n",
       "      <td>...</td>\n",
       "      <td>...</td>\n",
       "      <td>...</td>\n",
       "      <td>...</td>\n",
       "      <td>...</td>\n",
       "      <td>...</td>\n",
       "      <td>...</td>\n",
       "      <td>...</td>\n",
       "      <td>...</td>\n",
       "    </tr>\n",
       "    <tr>\n",
       "      <th>58</th>\n",
       "      <td>0.233353</td>\n",
       "      <td>0.091162</td>\n",
       "      <td>0.002933</td>\n",
       "      <td>0.000670</td>\n",
       "      <td>log_loss</td>\n",
       "      <td>30</td>\n",
       "      <td>log2</td>\n",
       "      <td>{'criterion': 'log_loss', 'max_depth': 30, 'ma...</td>\n",
       "      <td>0.427273</td>\n",
       "      <td>0.436818</td>\n",
       "      <td>0.434848</td>\n",
       "      <td>0.441515</td>\n",
       "      <td>0.461818</td>\n",
       "      <td>0.440455</td>\n",
       "      <td>0.011627</td>\n",
       "      <td>45</td>\n",
       "    </tr>\n",
       "    <tr>\n",
       "      <th>59</th>\n",
       "      <td>4.235793</td>\n",
       "      <td>0.207083</td>\n",
       "      <td>0.003897</td>\n",
       "      <td>0.000983</td>\n",
       "      <td>log_loss</td>\n",
       "      <td>30</td>\n",
       "      <td>None</td>\n",
       "      <td>{'criterion': 'log_loss', 'max_depth': 30, 'ma...</td>\n",
       "      <td>0.493485</td>\n",
       "      <td>0.610909</td>\n",
       "      <td>0.614242</td>\n",
       "      <td>0.605606</td>\n",
       "      <td>0.614545</td>\n",
       "      <td>0.587758</td>\n",
       "      <td>0.047246</td>\n",
       "      <td>11</td>\n",
       "    </tr>\n",
       "    <tr>\n",
       "      <th>60</th>\n",
       "      <td>0.453532</td>\n",
       "      <td>0.114480</td>\n",
       "      <td>0.003525</td>\n",
       "      <td>0.000689</td>\n",
       "      <td>log_loss</td>\n",
       "      <td>31</td>\n",
       "      <td>sqrt</td>\n",
       "      <td>{'criterion': 'log_loss', 'max_depth': 31, 'ma...</td>\n",
       "      <td>0.445758</td>\n",
       "      <td>0.494091</td>\n",
       "      <td>0.521818</td>\n",
       "      <td>0.469394</td>\n",
       "      <td>0.476970</td>\n",
       "      <td>0.481606</td>\n",
       "      <td>0.025411</td>\n",
       "      <td>33</td>\n",
       "    </tr>\n",
       "    <tr>\n",
       "      <th>61</th>\n",
       "      <td>0.342603</td>\n",
       "      <td>0.163134</td>\n",
       "      <td>0.003608</td>\n",
       "      <td>0.001019</td>\n",
       "      <td>log_loss</td>\n",
       "      <td>31</td>\n",
       "      <td>log2</td>\n",
       "      <td>{'criterion': 'log_loss', 'max_depth': 31, 'ma...</td>\n",
       "      <td>0.429697</td>\n",
       "      <td>0.456818</td>\n",
       "      <td>0.425606</td>\n",
       "      <td>0.441212</td>\n",
       "      <td>0.433182</td>\n",
       "      <td>0.437303</td>\n",
       "      <td>0.011025</td>\n",
       "      <td>51</td>\n",
       "    </tr>\n",
       "    <tr>\n",
       "      <th>62</th>\n",
       "      <td>4.079084</td>\n",
       "      <td>0.119768</td>\n",
       "      <td>0.004108</td>\n",
       "      <td>0.001148</td>\n",
       "      <td>log_loss</td>\n",
       "      <td>31</td>\n",
       "      <td>None</td>\n",
       "      <td>{'criterion': 'log_loss', 'max_depth': 31, 'ma...</td>\n",
       "      <td>0.493939</td>\n",
       "      <td>0.613030</td>\n",
       "      <td>0.616818</td>\n",
       "      <td>0.605909</td>\n",
       "      <td>0.618182</td>\n",
       "      <td>0.589576</td>\n",
       "      <td>0.048008</td>\n",
       "      <td>4</td>\n",
       "    </tr>\n",
       "  </tbody>\n",
       "</table>\n",
       "<p>63 rows × 16 columns</p>\n",
       "</div>"
      ],
      "text/plain": [
       "    mean_fit_time  std_fit_time  mean_score_time  std_score_time  \\\n",
       "0        0.317233      0.068385         0.003938        0.000838   \n",
       "1        0.217831      0.093922         0.003559        0.001167   \n",
       "2        3.082565      0.194494         0.003800        0.001013   \n",
       "3        0.331423      0.049439         0.003614        0.000816   \n",
       "4        0.235857      0.084088         0.003190        0.001468   \n",
       "..            ...           ...              ...             ...   \n",
       "58       0.233353      0.091162         0.002933        0.000670   \n",
       "59       4.235793      0.207083         0.003897        0.000983   \n",
       "60       0.453532      0.114480         0.003525        0.000689   \n",
       "61       0.342603      0.163134         0.003608        0.001019   \n",
       "62       4.079084      0.119768         0.004108        0.001148   \n",
       "\n",
       "   param_criterion param_max_depth param_max_features  \\\n",
       "0             gini              25               sqrt   \n",
       "1             gini              25               log2   \n",
       "2             gini              25               None   \n",
       "3             gini              26               sqrt   \n",
       "4             gini              26               log2   \n",
       "..             ...             ...                ...   \n",
       "58        log_loss              30               log2   \n",
       "59        log_loss              30               None   \n",
       "60        log_loss              31               sqrt   \n",
       "61        log_loss              31               log2   \n",
       "62        log_loss              31               None   \n",
       "\n",
       "                                               params  split0_test_score  \\\n",
       "0   {'criterion': 'gini', 'max_depth': 25, 'max_fe...           0.446515   \n",
       "1   {'criterion': 'gini', 'max_depth': 25, 'max_fe...           0.426667   \n",
       "2   {'criterion': 'gini', 'max_depth': 25, 'max_fe...           0.492424   \n",
       "3   {'criterion': 'gini', 'max_depth': 26, 'max_fe...           0.455455   \n",
       "4   {'criterion': 'gini', 'max_depth': 26, 'max_fe...           0.430303   \n",
       "..                                                ...                ...   \n",
       "58  {'criterion': 'log_loss', 'max_depth': 30, 'ma...           0.427273   \n",
       "59  {'criterion': 'log_loss', 'max_depth': 30, 'ma...           0.493485   \n",
       "60  {'criterion': 'log_loss', 'max_depth': 31, 'ma...           0.445758   \n",
       "61  {'criterion': 'log_loss', 'max_depth': 31, 'ma...           0.429697   \n",
       "62  {'criterion': 'log_loss', 'max_depth': 31, 'ma...           0.493939   \n",
       "\n",
       "    split1_test_score  split2_test_score  split3_test_score  \\\n",
       "0            0.466818           0.463939           0.491364   \n",
       "1            0.439091           0.440606           0.425909   \n",
       "2            0.609545           0.611061           0.599697   \n",
       "3            0.515303           0.535303           0.488788   \n",
       "4            0.433939           0.429545           0.460909   \n",
       "..                ...                ...                ...   \n",
       "58           0.436818           0.434848           0.441515   \n",
       "59           0.610909           0.614242           0.605606   \n",
       "60           0.494091           0.521818           0.469394   \n",
       "61           0.456818           0.425606           0.441212   \n",
       "62           0.613030           0.616818           0.605909   \n",
       "\n",
       "    split4_test_score  mean_test_score  std_test_score  rank_test_score  \n",
       "0            0.486970         0.471121        0.016349               39  \n",
       "1            0.434091         0.433273        0.006102               58  \n",
       "2            0.620303         0.586606        0.047542               18  \n",
       "3            0.478333         0.494636        0.027986               24  \n",
       "4            0.433182         0.437576        0.011784               49  \n",
       "..                ...              ...             ...              ...  \n",
       "58           0.461818         0.440455        0.011627               45  \n",
       "59           0.614545         0.587758        0.047246               11  \n",
       "60           0.476970         0.481606        0.025411               33  \n",
       "61           0.433182         0.437303        0.011025               51  \n",
       "62           0.618182         0.589576        0.048008                4  \n",
       "\n",
       "[63 rows x 16 columns]"
      ]
     },
     "execution_count": 40,
     "metadata": {},
     "output_type": "execute_result"
    }
   ],
   "source": [
    "pd.DataFrame(grid.cv_results_)"
   ]
  },
  {
   "cell_type": "code",
   "execution_count": 41,
   "id": "0b20b2ea-b9b6-464a-900d-2164710f2201",
   "metadata": {},
   "outputs": [],
   "source": [
    "model = grid.best_estimator_"
   ]
  },
  {
   "cell_type": "markdown",
   "id": "7c1f5ffb-cf8c-47c4-a8b6-989c8d034b4e",
   "metadata": {},
   "source": [
    "## Model Save"
   ]
  },
  {
   "cell_type": "code",
   "execution_count": 43,
   "id": "3341a281-099d-49a9-ace4-e0311ef983bb",
   "metadata": {},
   "outputs": [
    {
     "data": {
      "text/plain": [
       "['../model/model.joblib']"
      ]
     },
     "execution_count": 43,
     "metadata": {},
     "output_type": "execute_result"
    }
   ],
   "source": [
    "import joblib\n",
    "\n",
    "joblib.dump(vectorizer, '../model/vectorizer.joblib')\n",
    "joblib.dump(scaler, '../model/scaler.joblib')\n",
    "joblib.dump(model, '../model/model.joblib')"
   ]
  },
  {
   "cell_type": "markdown",
   "id": "242ae550-905b-4e13-bb01-6865ddc9d58b",
   "metadata": {},
   "source": [
    "## Model Evaluation"
   ]
  },
  {
   "cell_type": "code",
   "execution_count": 44,
   "id": "579603dd-d3a1-4823-b0a7-7d3a436af1c6",
   "metadata": {},
   "outputs": [],
   "source": [
    "test = pd.read_excel('../.data/test-texts.xlsx')\n",
    "answers = pd.read_excel('../.data/test-sentiments.xlsx')"
   ]
  },
  {
   "cell_type": "code",
   "execution_count": 48,
   "id": "130ff607-1684-4d0c-92ba-1be5b73bf65f",
   "metadata": {},
   "outputs": [],
   "source": [
    "test['Text'] = test['Text'].apply(clean_text)\n",
    "test['Text'] = test['Text'].apply(preprocess_text)\n",
    "\n",
    "vectorizer = joblib.load('../model/vectorizer.joblib')\n",
    "features = vectorizer.transform(test['Text'])\n",
    "\n",
    "scaler = joblib.load('../model/scaler.joblib')\n",
    "scaled_features = scaler.transform(features)\n",
    "\n",
    "answers = answers['Sentiments'].replace({\"negative\": -1, \"neutral\": 0, \"positive\": 1})"
   ]
  },
  {
   "cell_type": "code",
   "execution_count": 50,
   "id": "df3ee6b6-6331-4edb-b885-864426cf3819",
   "metadata": {},
   "outputs": [
    {
     "name": "stdout",
     "output_type": "stream",
     "text": [
      "Accuracy of the model: 0.6273291925465838\n",
      "Classification Report for the model: \n",
      "              precision    recall  f1-score   support\n",
      "\n",
      "          -1       0.65      0.29      0.40        77\n",
      "           0       0.57      0.87      0.69       143\n",
      "           1       0.81      0.55      0.65       102\n",
      "\n",
      "    accuracy                           0.63       322\n",
      "   macro avg       0.67      0.57      0.58       322\n",
      "weighted avg       0.66      0.63      0.61       322\n",
      "\n"
     ]
    },
    {
     "data": {
      "text/plain": [
       "<sklearn.metrics._plot.confusion_matrix.ConfusionMatrixDisplay at 0x29520aacad0>"
      ]
     },
     "execution_count": 50,
     "metadata": {},
     "output_type": "execute_result"
    },
    {
     "data": {
      "image/png": "[encoded data removed]",
      "text/plain": [
       "<Figure size 640x480 with 2 Axes>"
      ]
     },
     "metadata": {},
     "output_type": "display_data"
    }
   ],
   "source": [
    "model = joblib.load('../model/model.joblib')\n",
    "preds = model.predict(scaled_features)\n",
    "\n",
    "print(f\"Accuracy of the model: {accuracy_score(answers, preds)}\")\n",
    "\n",
    "print(f\"Classification Report for the model: \\n{classification_report(answers, preds)}\")\n",
    "\n",
    "cm = confusion_matrix(answers, preds, labels=model.classes_)\n",
    "disp = ConfusionMatrixDisplay(confusion_matrix=cm, display_labels=model.classes_)\n",
    "\n",
    "disp.plot()"
   ]
  }
 ],
 "metadata": {
  "kernelspec": {
   "display_name": "Python 3 (ipykernel)",
   "language": "python",
   "name": "python3"
  },
  "language_info": {
   "codemirror_mode": {
    "name": "ipython",
    "version": 3
   },
   "file_extension": ".py",
   "mimetype": "text/x-python",
   "name": "python",
   "nbconvert_exporter": "python",
   "pygments_lexer": "ipython3",
   "version": "3.11.5"
  }
 },
 "nbformat": 4,
 "nbformat_minor": 5
}
